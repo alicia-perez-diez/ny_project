{
 "cells": [
  {
   "cell_type": "code",
   "execution_count": 1,
   "metadata": {},
   "outputs": [],
   "source": [
    "#el dataset de crímenes pesa demasiado y no se carga en mysql por lo que procedemos a limpiar algo los datos antes en python"
   ]
  },
  {
   "cell_type": "code",
   "execution_count": 2,
   "metadata": {},
   "outputs": [],
   "source": [
    "import pandas as pd "
   ]
  },
  {
   "cell_type": "code",
   "execution_count": 3,
   "metadata": {},
   "outputs": [],
   "source": [
    "df=pd.read_csv('NYPD_Complaint_Data_Historic.csv', dtype=str)"
   ]
  },
  {
   "cell_type": "code",
   "execution_count": 4,
   "metadata": {},
   "outputs": [],
   "source": [
    "#cambiamos el tipo de data de la columna a fecha\n",
    "df[\"CMPLNT_FR_DT\"]=pd.to_datetime(df[\"CMPLNT_FR_DT\"], errors='coerce')"
   ]
  },
  {
   "cell_type": "code",
   "execution_count": 5,
   "metadata": {},
   "outputs": [],
   "source": [
    "#creamos una nueva lista con las columnas que queremos eliminar y las eliminamos del dataframe\n",
    "\n",
    "columns_to_drop = [\"CMPLNT_FR_TM\", \"CMPLNT_TO_DT\", \"CMPLNT_TO_TM\", \"ADDR_PCT_CD\", \"RPT_DT\", \"KY_CD\", \"OFNS_DESC\", \"PD_CD\", \"PD_DESC\", \"CRM_ATPT_CPTD_CD\", \"LOC_OF_OCCUR_DESC\",\\\n",
    "                   \"PREM_TYP_DESC\", \"JURIS_DESC\", \"JURISDICTION_CODE\", \"PARKS_NM\", \"HADEVELOPT\", \"HOUSING_PSA\", \"X_COORD_CD\", \"Y_COORD_CD\", \"SUSP_AGE_GROUP\", \"SUSP_RACE\",\\\n",
    "                    \"SUSP_SEX\", \"TRANSIT_DISTRICT\", \"Latitude\", \"Longitude\", \"Lat_Lon\", \"PATROL_BORO\", \"STATION_NAME\", \"VIC_AGE_GROUP\", \"VIC_RACE\", \"VIC_SEX\"]\n",
    "\n",
    "df = df.drop(columns = columns_to_drop, axis = 1)"
   ]
  },
  {
   "cell_type": "code",
   "execution_count": 6,
   "metadata": {},
   "outputs": [],
   "source": [
    "#eliminamos las filas que no tienen barrio especificado\n",
    "\n",
    "df = df.dropna(subset = [\"BORO_NM\"])"
   ]
  },
  {
   "cell_type": "code",
   "execution_count": 7,
   "metadata": {},
   "outputs": [
    {
     "data": {
      "text/plain": [
       "0"
      ]
     },
     "execution_count": 7,
     "metadata": {},
     "output_type": "execute_result"
    }
   ],
   "source": [
    "#eliminamos todas las filas duplicadas\n",
    "\n",
    "df.drop_duplicates(keep=\"first\", inplace=True)\n",
    "\n",
    "df.duplicated().sum()"
   ]
  },
  {
   "cell_type": "code",
   "execution_count": 8,
   "metadata": {},
   "outputs": [],
   "source": [
    "#filtramos los dos últimos años\n",
    "\n",
    "df=df[df[\"CMPLNT_FR_DT\"]>='2016-01-01']"
   ]
  },
  {
   "cell_type": "code",
   "execution_count": 36,
   "metadata": {},
   "outputs": [
    {
     "data": {
      "text/html": [
       "<div>\n",
       "<style scoped>\n",
       "    .dataframe tbody tr th:only-of-type {\n",
       "        vertical-align: middle;\n",
       "    }\n",
       "\n",
       "    .dataframe tbody tr th {\n",
       "        vertical-align: top;\n",
       "    }\n",
       "\n",
       "    .dataframe thead th {\n",
       "        text-align: right;\n",
       "    }\n",
       "</style>\n",
       "<table border=\"1\" class=\"dataframe\">\n",
       "  <thead>\n",
       "    <tr style=\"text-align: right;\">\n",
       "      <th></th>\n",
       "      <th>CMPLNT_NUM</th>\n",
       "      <th>CMPLNT_FR_DT</th>\n",
       "      <th>LAW_CAT_CD</th>\n",
       "      <th>BORO_NM</th>\n",
       "      <th>anyo</th>\n",
       "    </tr>\n",
       "  </thead>\n",
       "  <tbody>\n",
       "    <tr>\n",
       "      <th>2</th>\n",
       "      <td>802896158</td>\n",
       "      <td>2016-10-27</td>\n",
       "      <td>VIOLATION</td>\n",
       "      <td>BROOKLYN</td>\n",
       "      <td>2016</td>\n",
       "    </tr>\n",
       "    <tr>\n",
       "      <th>9</th>\n",
       "      <td>895680254</td>\n",
       "      <td>2016-09-17</td>\n",
       "      <td>MISDEMEANOR</td>\n",
       "      <td>BROOKLYN</td>\n",
       "      <td>2016</td>\n",
       "    </tr>\n",
       "    <tr>\n",
       "      <th>14</th>\n",
       "      <td>882568598</td>\n",
       "      <td>2017-06-28</td>\n",
       "      <td>VIOLATION</td>\n",
       "      <td>STATEN ISLAND</td>\n",
       "      <td>2017</td>\n",
       "    </tr>\n",
       "    <tr>\n",
       "      <th>29</th>\n",
       "      <td>409783199</td>\n",
       "      <td>2017-03-25</td>\n",
       "      <td>FELONY</td>\n",
       "      <td>BRONX</td>\n",
       "      <td>2017</td>\n",
       "    </tr>\n",
       "    <tr>\n",
       "      <th>30</th>\n",
       "      <td>791737161</td>\n",
       "      <td>2016-03-02</td>\n",
       "      <td>MISDEMEANOR</td>\n",
       "      <td>MANHATTAN</td>\n",
       "      <td>2016</td>\n",
       "    </tr>\n",
       "  </tbody>\n",
       "</table>\n",
       "</div>"
      ],
      "text/plain": [
       "   CMPLNT_NUM CMPLNT_FR_DT   LAW_CAT_CD        BORO_NM  anyo\n",
       "2   802896158   2016-10-27    VIOLATION       BROOKLYN  2016\n",
       "9   895680254   2016-09-17  MISDEMEANOR       BROOKLYN  2016\n",
       "14  882568598   2017-06-28    VIOLATION  STATEN ISLAND  2017\n",
       "29  409783199   2017-03-25       FELONY          BRONX  2017\n",
       "30  791737161   2016-03-02  MISDEMEANOR      MANHATTAN  2016"
      ]
     },
     "execution_count": 36,
     "metadata": {},
     "output_type": "execute_result"
    }
   ],
   "source": [
    "df.head()"
   ]
  },
  {
   "cell_type": "code",
   "execution_count": 35,
   "metadata": {},
   "outputs": [],
   "source": [
    "#creamos una columna que tenga tan solo los años\n",
    "\n",
    "df[\"anyo\"] = pd.to_datetime(df[\"CMPLNT_FR_DT\"]).dt.year"
   ]
  },
  {
   "cell_type": "code",
   "execution_count": 13,
   "metadata": {},
   "outputs": [],
   "source": [
    "#agrupamos por barrio y delito y eliminamos la columna de fechas\n",
    "\n",
    "crimenes_por_barrio = df.groupby([\"BORO_NM\", \"LAW_CAT_CD\"]).count().reset_index().drop(columns=\"CMPLNT_FR_DT\")"
   ]
  },
  {
   "cell_type": "code",
   "execution_count": 72,
   "metadata": {},
   "outputs": [],
   "source": [
    "#creamos columnas por cada uno de los delitos\n",
    "\n",
    "crimenes_por_barrio = crimenes_por_barrio.pivot_table(index=\"BORO_NM\", columns=\"LAW_CAT_CD\", values=\"CMPLNT_NUM\").reset_index()"
   ]
  },
  {
   "cell_type": "code",
   "execution_count": 38,
   "metadata": {},
   "outputs": [],
   "source": [
    "#agrupamos las columnas de barrio, infracción y año y sumamos el número de infracciones\n",
    "\n",
    "crimenes_por_barrio_y_anyo = df.groupby([\"BORO_NM\", \"LAW_CAT_CD\", \"anyo\"]).count().reset_index().drop(columns=\"CMPLNT_FR_DT\")"
   ]
  },
  {
   "cell_type": "code",
   "execution_count": 42,
   "metadata": {},
   "outputs": [],
   "source": [
    "#creamos nuevas columnas con cada una de las infracciones y los años\n",
    "\n",
    "crimenes_por_barrio_y_anyo = crimenes_por_barrio_y_anyo.pivot_table(index=\"BORO_NM\", columns=[\"LAW_CAT_CD\", \"anyo\"], values=\"CMPLNT_NUM\").reset_index()"
   ]
  },
  {
   "cell_type": "code",
   "execution_count": 51,
   "metadata": {},
   "outputs": [],
   "source": [
    "#revisamos cada tipo de crimen y cada año para calcular la diferencia de un determinado año con respecto al anterior\n",
    "\n",
    "for crimen in [\"FELONY\", \"MISDEMEANOR\", \"VIOLATION\"]:\n",
    "    for anyo in range(2017, 2019):   \n",
    "        crimenes_por_barrio_y_anyo[f\"diferencia_{anyo}\"] = crimenes_por_barrio_y_anyo[crimen][anyo] - crimenes_por_barrio_y_anyo[crimen][anyo-1]"
   ]
  },
  {
   "cell_type": "code",
   "execution_count": 63,
   "metadata": {},
   "outputs": [],
   "source": [
    "# creamos una tabla con el barrio y la diferencia en la evolución de cada año\n",
    "\n",
    "crimenes_por_barrio_y_anyo_2 = crimenes_por_barrio_y_anyo[[\"BORO_NM\",\"diferencia_2017\",\"diferencia_2018\"]]"
   ]
  },
  {
   "cell_type": "code",
   "execution_count": 67,
   "metadata": {},
   "outputs": [],
   "source": [
    "#eliminamos el multiindex\n",
    "crimenes_por_barrio_y_anyo_2.columns = crimenes_por_barrio_y_anyo_2.columns.droplevel(level=1)"
   ]
  },
  {
   "cell_type": "code",
   "execution_count": 81,
   "metadata": {},
   "outputs": [],
   "source": [
    "#creamos un nuevo dataframe con todas las columnas:barrio, infracciones y evolución en el nº de infracciones por año\n",
    "\n",
    "crimenes = crimenes_por_barrio.merge(crimenes_por_barrio_y_anyo_2[[\"BORO_NM\",\"diferencia_2017\",\"diferencia_2018\"]], how=\"left\", left_on=\"BORO_NM\", right_on=\"BORO_NM\")"
   ]
  },
  {
   "cell_type": "code",
   "execution_count": 82,
   "metadata": {},
   "outputs": [
    {
     "data": {
      "text/html": [
       "<div>\n",
       "<style scoped>\n",
       "    .dataframe tbody tr th:only-of-type {\n",
       "        vertical-align: middle;\n",
       "    }\n",
       "\n",
       "    .dataframe tbody tr th {\n",
       "        vertical-align: top;\n",
       "    }\n",
       "\n",
       "    .dataframe thead th {\n",
       "        text-align: right;\n",
       "    }\n",
       "</style>\n",
       "<table border=\"1\" class=\"dataframe\">\n",
       "  <thead>\n",
       "    <tr style=\"text-align: right;\">\n",
       "      <th>LAW_CAT_CD</th>\n",
       "      <th>BORO_NM</th>\n",
       "      <th>FELONY</th>\n",
       "      <th>MISDEMEANOR</th>\n",
       "      <th>VIOLATION</th>\n",
       "      <th>diferencia_2017</th>\n",
       "      <th>diferencia_2018</th>\n",
       "    </tr>\n",
       "  </thead>\n",
       "  <tbody>\n",
       "    <tr>\n",
       "      <th>0</th>\n",
       "      <td>BRONX</td>\n",
       "      <td>85756</td>\n",
       "      <td>176914</td>\n",
       "      <td>46515</td>\n",
       "      <td>530</td>\n",
       "      <td>893</td>\n",
       "    </tr>\n",
       "    <tr>\n",
       "      <th>1</th>\n",
       "      <td>BROOKLYN</td>\n",
       "      <td>133404</td>\n",
       "      <td>219192</td>\n",
       "      <td>61230</td>\n",
       "      <td>-670</td>\n",
       "      <td>1232</td>\n",
       "    </tr>\n",
       "    <tr>\n",
       "      <th>2</th>\n",
       "      <td>MANHATTAN</td>\n",
       "      <td>107301</td>\n",
       "      <td>195120</td>\n",
       "      <td>41327</td>\n",
       "      <td>-269</td>\n",
       "      <td>1248</td>\n",
       "    </tr>\n",
       "    <tr>\n",
       "      <th>3</th>\n",
       "      <td>QUEENS</td>\n",
       "      <td>89483</td>\n",
       "      <td>143452</td>\n",
       "      <td>42482</td>\n",
       "      <td>540</td>\n",
       "      <td>260</td>\n",
       "    </tr>\n",
       "    <tr>\n",
       "      <th>4</th>\n",
       "      <td>STATEN ISLAND</td>\n",
       "      <td>14711</td>\n",
       "      <td>35552</td>\n",
       "      <td>13533</td>\n",
       "      <td>250</td>\n",
       "      <td>-77</td>\n",
       "    </tr>\n",
       "  </tbody>\n",
       "</table>\n",
       "</div>"
      ],
      "text/plain": [
       "LAW_CAT_CD        BORO_NM  FELONY  MISDEMEANOR  VIOLATION  diferencia_2017  \\\n",
       "0                   BRONX   85756       176914      46515              530   \n",
       "1                BROOKLYN  133404       219192      61230             -670   \n",
       "2               MANHATTAN  107301       195120      41327             -269   \n",
       "3                  QUEENS   89483       143452      42482              540   \n",
       "4           STATEN ISLAND   14711        35552      13533              250   \n",
       "\n",
       "LAW_CAT_CD  diferencia_2018  \n",
       "0                       893  \n",
       "1                      1232  \n",
       "2                      1248  \n",
       "3                       260  \n",
       "4                       -77  "
      ]
     },
     "execution_count": 82,
     "metadata": {},
     "output_type": "execute_result"
    }
   ],
   "source": [
    "crimenes"
   ]
  },
  {
   "cell_type": "code",
   "execution_count": 83,
   "metadata": {},
   "outputs": [],
   "source": [
    "crimenes.to_csv('NYPD_Complaint_Data_Historic_3years.csv', index=False)"
   ]
  }
 ],
 "metadata": {
  "kernelspec": {
   "display_name": "Python 3",
   "language": "python",
   "name": "python3"
  },
  "language_info": {
   "codemirror_mode": {
    "name": "ipython",
    "version": 3
   },
   "file_extension": ".py",
   "mimetype": "text/x-python",
   "name": "python",
   "nbconvert_exporter": "python",
   "pygments_lexer": "ipython3",
   "version": "3.11.5"
  }
 },
 "nbformat": 4,
 "nbformat_minor": 2
}
